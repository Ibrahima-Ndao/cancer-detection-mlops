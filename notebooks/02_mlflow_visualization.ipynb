{
 "cells": [
  {
   "cell_type": "code",
   "execution_count": 2,
   "metadata": {},
   "outputs": [
    {
     "name": "stdout",
     "output_type": "stream",
     "text": [
      "Using MLflow tracking dir: C:\\Users\\USER\\Desktop\\memoire\\cancer-detection-mlops\\notebooks\\mlruns\n"
     ]
    },
    {
     "ename": "UnsupportedModelRegistryStoreURIException",
     "evalue": " Model registry functionality is unavailable; got unsupported URI 'C:\\Users\\USER\\Desktop\\memoire\\cancer-detection-mlops\\notebooks\\mlruns' for model registry data storage. Supported URI schemes are: ['', 'file', 'databricks', 'databricks-uc', 'http', 'https', 'postgresql', 'mysql', 'sqlite', 'mssql']. See https://www.mlflow.org/docs/latest/tracking.html#storage for how to run an MLflow server against one of the supported backend storage locations.",
     "output_type": "error",
     "traceback": [
      "\u001b[31m---------------------------------------------------------------------------\u001b[39m",
      "\u001b[31mKeyError\u001b[39m                                  Traceback (most recent call last)",
      "\u001b[36mFile \u001b[39m\u001b[32mc:\\Users\\USER\\Desktop\\memoire\\cancer-detection-mlops\\.venv\\Lib\\site-packages\\mlflow\\tracking\\registry.py:81\u001b[39m, in \u001b[36mStoreRegistry.get_store_builder\u001b[39m\u001b[34m(self, store_uri)\u001b[39m\n\u001b[32m     80\u001b[39m \u001b[38;5;28;01mtry\u001b[39;00m:\n\u001b[32m---> \u001b[39m\u001b[32m81\u001b[39m     store_builder = \u001b[38;5;28;43mself\u001b[39;49m\u001b[43m.\u001b[49m\u001b[43m_registry\u001b[49m\u001b[43m[\u001b[49m\u001b[43mscheme\u001b[49m\u001b[43m]\u001b[49m\n\u001b[32m     82\u001b[39m \u001b[38;5;28;01mexcept\u001b[39;00m \u001b[38;5;167;01mKeyError\u001b[39;00m:\n",
      "\u001b[31mKeyError\u001b[39m: 'c'",
      "\nDuring handling of the above exception, another exception occurred:\n",
      "\u001b[31mUnsupportedModelRegistryStoreURIException\u001b[39m Traceback (most recent call last)",
      "\u001b[36mCell\u001b[39m\u001b[36m \u001b[39m\u001b[32mIn[2]\u001b[39m\u001b[32m, line 19\u001b[39m\n\u001b[32m     17\u001b[39m \u001b[38;5;66;03m# 2) S'assurer que l'expérience existe (la créer sinon)\u001b[39;00m\n\u001b[32m     18\u001b[39m EXP_NAME = \u001b[33m\"\u001b[39m\u001b[33mcancer-detection-ai\u001b[39m\u001b[33m\"\u001b[39m\n\u001b[32m---> \u001b[39m\u001b[32m19\u001b[39m exp = \u001b[43mmlflow\u001b[49m\u001b[43m.\u001b[49m\u001b[43mget_experiment_by_name\u001b[49m\u001b[43m(\u001b[49m\u001b[43mEXP_NAME\u001b[49m\u001b[43m)\u001b[49m\n\u001b[32m     20\u001b[39m \u001b[38;5;28;01mif\u001b[39;00m exp \u001b[38;5;129;01mis\u001b[39;00m \u001b[38;5;28;01mNone\u001b[39;00m:\n\u001b[32m     21\u001b[39m     \u001b[38;5;28mprint\u001b[39m(\u001b[33mf\u001b[39m\u001b[33m\"\u001b[39m\u001b[33mExperiment \u001b[39m\u001b[33m'\u001b[39m\u001b[38;5;132;01m{\u001b[39;00mEXP_NAME\u001b[38;5;132;01m}\u001b[39;00m\u001b[33m'\u001b[39m\u001b[33m not found in \u001b[39m\u001b[38;5;132;01m{\u001b[39;00mmlruns_dir\u001b[38;5;132;01m}\u001b[39;00m\u001b[33m. Creating it now…\u001b[39m\u001b[33m\"\u001b[39m)\n",
      "\u001b[36mFile \u001b[39m\u001b[32mc:\\Users\\USER\\Desktop\\memoire\\cancer-detection-mlops\\.venv\\Lib\\site-packages\\mlflow\\tracking\\fluent.py:1560\u001b[39m, in \u001b[36mget_experiment_by_name\u001b[39m\u001b[34m(name)\u001b[39m\n\u001b[32m   1526\u001b[39m \u001b[38;5;28;01mdef\u001b[39;00m\u001b[38;5;250m \u001b[39m\u001b[34mget_experiment_by_name\u001b[39m(name: \u001b[38;5;28mstr\u001b[39m) -> Optional[Experiment]:\n\u001b[32m   1527\u001b[39m \u001b[38;5;250m    \u001b[39m\u001b[33;03m\"\"\"\u001b[39;00m\n\u001b[32m   1528\u001b[39m \u001b[33;03m    Retrieve an experiment by experiment name from the backend store\u001b[39;00m\n\u001b[32m   1529\u001b[39m \n\u001b[32m   (...)\u001b[39m\u001b[32m   1558\u001b[39m \u001b[33;03m        Creation timestamp: 1662004217511\u001b[39;00m\n\u001b[32m   1559\u001b[39m \u001b[33;03m    \"\"\"\u001b[39;00m\n\u001b[32m-> \u001b[39m\u001b[32m1560\u001b[39m     \u001b[38;5;28;01mreturn\u001b[39;00m \u001b[43mMlflowClient\u001b[49m\u001b[43m(\u001b[49m\u001b[43m)\u001b[49m.get_experiment_by_name(name)\n",
      "\u001b[36mFile \u001b[39m\u001b[32mc:\\Users\\USER\\Desktop\\memoire\\cancer-detection-mlops\\.venv\\Lib\\site-packages\\mlflow\\tracking\\client.py:134\u001b[39m, in \u001b[36mMlflowClient.__init__\u001b[39m\u001b[34m(self, tracking_uri, registry_uri)\u001b[39m\n\u001b[32m    132\u001b[39m final_tracking_uri = utils._resolve_tracking_uri(tracking_uri)\n\u001b[32m    133\u001b[39m \u001b[38;5;28mself\u001b[39m._registry_uri = registry_utils._resolve_registry_uri(registry_uri, tracking_uri)\n\u001b[32m--> \u001b[39m\u001b[32m134\u001b[39m \u001b[38;5;28mself\u001b[39m._tracking_client = \u001b[43mTrackingServiceClient\u001b[49m\u001b[43m(\u001b[49m\u001b[43mfinal_tracking_uri\u001b[49m\u001b[43m)\u001b[49m\n",
      "\u001b[36mFile \u001b[39m\u001b[32mc:\\Users\\USER\\Desktop\\memoire\\cancer-detection-mlops\\.venv\\Lib\\site-packages\\mlflow\\tracking\\_tracking_service\\client.py:79\u001b[39m, in \u001b[36mTrackingServiceClient.__init__\u001b[39m\u001b[34m(self, tracking_uri)\u001b[39m\n\u001b[32m     74\u001b[39m \u001b[38;5;28mself\u001b[39m.tracking_uri = tracking_uri\n\u001b[32m     75\u001b[39m \u001b[38;5;66;03m# NB: Fetch the tracking store (`self.store`) upon client initialization to ensure that\u001b[39;00m\n\u001b[32m     76\u001b[39m \u001b[38;5;66;03m# the tracking URI is valid and the store can be properly resolved. We define `store` as a\u001b[39;00m\n\u001b[32m     77\u001b[39m \u001b[38;5;66;03m# property method to ensure that the client is serializable, even if the store is not\u001b[39;00m\n\u001b[32m     78\u001b[39m \u001b[38;5;66;03m# self.store\u001b[39;00m\n\u001b[32m---> \u001b[39m\u001b[32m79\u001b[39m \u001b[38;5;28;43mself\u001b[39;49m\u001b[43m.\u001b[49m\u001b[43mstore\u001b[49m\n",
      "\u001b[36mFile \u001b[39m\u001b[32mc:\\Users\\USER\\Desktop\\memoire\\cancer-detection-mlops\\.venv\\Lib\\site-packages\\mlflow\\tracking\\_tracking_service\\client.py:83\u001b[39m, in \u001b[36mTrackingServiceClient.store\u001b[39m\u001b[34m(self)\u001b[39m\n\u001b[32m     81\u001b[39m \u001b[38;5;129m@property\u001b[39m\n\u001b[32m     82\u001b[39m \u001b[38;5;28;01mdef\u001b[39;00m\u001b[38;5;250m \u001b[39m\u001b[34mstore\u001b[39m(\u001b[38;5;28mself\u001b[39m):\n\u001b[32m---> \u001b[39m\u001b[32m83\u001b[39m     \u001b[38;5;28;01mreturn\u001b[39;00m \u001b[43mutils\u001b[49m\u001b[43m.\u001b[49m\u001b[43m_get_store\u001b[49m\u001b[43m(\u001b[49m\u001b[38;5;28;43mself\u001b[39;49m\u001b[43m.\u001b[49m\u001b[43mtracking_uri\u001b[49m\u001b[43m)\u001b[49m\n",
      "\u001b[36mFile \u001b[39m\u001b[32mc:\\Users\\USER\\Desktop\\memoire\\cancer-detection-mlops\\.venv\\Lib\\site-packages\\mlflow\\tracking\\_tracking_service\\utils.py:205\u001b[39m, in \u001b[36m_get_store\u001b[39m\u001b[34m(store_uri, artifact_uri)\u001b[39m\n\u001b[32m    204\u001b[39m \u001b[38;5;28;01mdef\u001b[39;00m\u001b[38;5;250m \u001b[39m\u001b[34m_get_store\u001b[39m(store_uri=\u001b[38;5;28;01mNone\u001b[39;00m, artifact_uri=\u001b[38;5;28;01mNone\u001b[39;00m):\n\u001b[32m--> \u001b[39m\u001b[32m205\u001b[39m     \u001b[38;5;28;01mreturn\u001b[39;00m \u001b[43m_tracking_store_registry\u001b[49m\u001b[43m.\u001b[49m\u001b[43mget_store\u001b[49m\u001b[43m(\u001b[49m\u001b[43mstore_uri\u001b[49m\u001b[43m,\u001b[49m\u001b[43m \u001b[49m\u001b[43martifact_uri\u001b[49m\u001b[43m)\u001b[49m\n",
      "\u001b[36mFile \u001b[39m\u001b[32mc:\\Users\\USER\\Desktop\\memoire\\cancer-detection-mlops\\.venv\\Lib\\site-packages\\mlflow\\tracking\\_tracking_service\\registry.py:42\u001b[39m, in \u001b[36mTrackingStoreRegistry.get_store\u001b[39m\u001b[34m(self, store_uri, artifact_uri)\u001b[39m\n\u001b[32m     39\u001b[39m \u001b[38;5;28;01mfrom\u001b[39;00m\u001b[38;5;250m \u001b[39m\u001b[34;01mmlflow\u001b[39;00m\u001b[34;01m.\u001b[39;00m\u001b[34;01mtracking\u001b[39;00m\u001b[34;01m.\u001b[39;00m\u001b[34;01m_tracking_service\u001b[39;00m\u001b[38;5;250m \u001b[39m\u001b[38;5;28;01mimport\u001b[39;00m utils\n\u001b[32m     41\u001b[39m resolved_store_uri = utils._resolve_tracking_uri(store_uri)\n\u001b[32m---> \u001b[39m\u001b[32m42\u001b[39m \u001b[38;5;28;01mreturn\u001b[39;00m \u001b[38;5;28;43mself\u001b[39;49m\u001b[43m.\u001b[49m\u001b[43m_get_store_with_resolved_uri\u001b[49m\u001b[43m(\u001b[49m\u001b[43mresolved_store_uri\u001b[49m\u001b[43m,\u001b[49m\u001b[43m \u001b[49m\u001b[43martifact_uri\u001b[49m\u001b[43m)\u001b[49m\n",
      "\u001b[36mFile \u001b[39m\u001b[32mc:\\Users\\USER\\Desktop\\memoire\\cancer-detection-mlops\\.venv\\Lib\\site-packages\\mlflow\\tracking\\_tracking_service\\registry.py:51\u001b[39m, in \u001b[36mTrackingStoreRegistry._get_store_with_resolved_uri\u001b[39m\u001b[34m(self, resolved_store_uri, artifact_uri)\u001b[39m\n\u001b[32m     44\u001b[39m \u001b[38;5;129m@lru_cache\u001b[39m(maxsize=\u001b[32m100\u001b[39m)\n\u001b[32m     45\u001b[39m \u001b[38;5;28;01mdef\u001b[39;00m\u001b[38;5;250m \u001b[39m\u001b[34m_get_store_with_resolved_uri\u001b[39m(\u001b[38;5;28mself\u001b[39m, resolved_store_uri, artifact_uri=\u001b[38;5;28;01mNone\u001b[39;00m):\n\u001b[32m     46\u001b[39m \u001b[38;5;250m    \u001b[39m\u001b[33;03m\"\"\"\u001b[39;00m\n\u001b[32m     47\u001b[39m \u001b[33;03m    Retrieve the store associated with a resolved (non-None) store URI and an artifact URI.\u001b[39;00m\n\u001b[32m     48\u001b[39m \u001b[33;03m    Caching is done on resolved URIs because the meaning of an unresolved (None) URI may change\u001b[39;00m\n\u001b[32m     49\u001b[39m \u001b[33;03m    depending on external configuration, such as environment variables\u001b[39;00m\n\u001b[32m     50\u001b[39m \u001b[33;03m    \"\"\"\u001b[39;00m\n\u001b[32m---> \u001b[39m\u001b[32m51\u001b[39m     builder = \u001b[38;5;28;43mself\u001b[39;49m\u001b[43m.\u001b[49m\u001b[43mget_store_builder\u001b[49m\u001b[43m(\u001b[49m\u001b[43mresolved_store_uri\u001b[49m\u001b[43m)\u001b[49m\n\u001b[32m     52\u001b[39m     \u001b[38;5;28;01mreturn\u001b[39;00m builder(store_uri=resolved_store_uri, artifact_uri=artifact_uri)\n",
      "\u001b[36mFile \u001b[39m\u001b[32mc:\\Users\\USER\\Desktop\\memoire\\cancer-detection-mlops\\.venv\\Lib\\site-packages\\mlflow\\tracking\\registry.py:83\u001b[39m, in \u001b[36mStoreRegistry.get_store_builder\u001b[39m\u001b[34m(self, store_uri)\u001b[39m\n\u001b[32m     81\u001b[39m     store_builder = \u001b[38;5;28mself\u001b[39m._registry[scheme]\n\u001b[32m     82\u001b[39m \u001b[38;5;28;01mexcept\u001b[39;00m \u001b[38;5;167;01mKeyError\u001b[39;00m:\n\u001b[32m---> \u001b[39m\u001b[32m83\u001b[39m     \u001b[38;5;28;01mraise\u001b[39;00m UnsupportedModelRegistryStoreURIException(\n\u001b[32m     84\u001b[39m         unsupported_uri=store_uri, supported_uri_schemes=\u001b[38;5;28mlist\u001b[39m(\u001b[38;5;28mself\u001b[39m._registry.keys())\n\u001b[32m     85\u001b[39m     )\n\u001b[32m     86\u001b[39m \u001b[38;5;28;01mreturn\u001b[39;00m store_builder\n",
      "\u001b[31mUnsupportedModelRegistryStoreURIException\u001b[39m:  Model registry functionality is unavailable; got unsupported URI 'C:\\Users\\USER\\Desktop\\memoire\\cancer-detection-mlops\\notebooks\\mlruns' for model registry data storage. Supported URI schemes are: ['', 'file', 'databricks', 'databricks-uc', 'http', 'https', 'postgresql', 'mysql', 'sqlite', 'mssql']. See https://www.mlflow.org/docs/latest/tracking.html#storage for how to run an MLflow server against one of the supported backend storage locations."
     ]
    }
   ],
   "source": [
    "from pathlib import Path\n",
    "import os, mlflow, pandas as pd\n",
    "\n",
    "# 1) Trouver automatiquement le bon dossier 'mlruns' (en remontant depuis le notebook)\n",
    "def find_mlruns_dir():\n",
    "    p = Path.cwd()\n",
    "    for d in [p, *p.parents]:\n",
    "        if (d / \"mlruns\").exists():\n",
    "            return (d / \"mlruns\").resolve()\n",
    "    # fallback: racine courante\n",
    "    return (Path.cwd() / \"mlruns\").resolve()\n",
    "\n",
    "mlruns_dir = find_mlruns_dir()\n",
    "print(\"Using MLflow tracking dir:\", mlruns_dir)\n",
    "mlflow.set_tracking_uri(str(mlruns_dir))\n",
    "\n",
    "# 2) S'assurer que l'expérience existe (la créer sinon)\n",
    "EXP_NAME = \"cancer-detection-ai\"\n",
    "exp = mlflow.get_experiment_by_name(EXP_NAME)\n",
    "if exp is None:\n",
    "    print(f\"Experiment '{EXP_NAME}' not found in {mlruns_dir}. Creating it now…\")\n",
    "    mlflow.set_experiment(EXP_NAME)\n",
    "    exp = mlflow.get_experiment_by_name(EXP_NAME)\n",
    "\n",
    "print(\"Experiment:\", exp.name, \"id:\", exp.experiment_id)\n",
    "\n",
    "# 3) Charger les runs (si aucun run, afficher un message clair)\n",
    "runs = mlflow.search_runs(experiment_ids=[exp.experiment_id])\n",
    "if runs.empty:\n",
    "    print(\"⚠️ Aucun run trouvé. Lance d'abord un entraînement, par ex.:\")\n",
    "    print(\"    python -m src.train --model resnet18 --epochs 1 --batch-size 64 --img-size 96\")\n",
    "else:\n",
    "    cols = [\"run_name\",\"metrics.val_auc\",\"metrics.best_val_auc\",\"params.model_name\",\"params.img_size\",\"params.epochs\"]\n",
    "    display(runs[cols].sort_values(\"metrics.best_val_auc\", ascending=False))\n"
   ]
  },
  {
   "cell_type": "code",
   "execution_count": 5,
   "metadata": {},
   "outputs": [
    {
     "ename": "AttributeError",
     "evalue": "'NoneType' object has no attribute 'experiment_id'",
     "output_type": "error",
     "traceback": [
      "\u001b[31m---------------------------------------------------------------------------\u001b[39m",
      "\u001b[31mAttributeError\u001b[39m                            Traceback (most recent call last)",
      "\u001b[36mCell\u001b[39m\u001b[36m \u001b[39m\u001b[32mIn[5]\u001b[39m\u001b[32m, line 4\u001b[39m\n\u001b[32m      2\u001b[39m mlflow.set_tracking_uri(\u001b[33m\"\u001b[39m\u001b[33m./mlruns\u001b[39m\u001b[33m\"\u001b[39m)\n\u001b[32m      3\u001b[39m exp = mlflow.get_experiment_by_name(\u001b[33m\"\u001b[39m\u001b[33mcancer-detection-ai\u001b[39m\u001b[33m\"\u001b[39m)\n\u001b[32m----> \u001b[39m\u001b[32m4\u001b[39m runs = mlflow.search_runs(experiment_ids=[\u001b[43mexp\u001b[49m\u001b[43m.\u001b[49m\u001b[43mexperiment_id\u001b[49m])\n\u001b[32m      5\u001b[39m runs[[\u001b[33m\"\u001b[39m\u001b[33mrun_name\u001b[39m\u001b[33m\"\u001b[39m,\u001b[33m\"\u001b[39m\u001b[33mmetrics.val_auc\u001b[39m\u001b[33m\"\u001b[39m,\u001b[33m\"\u001b[39m\u001b[33mmetrics.best_val_auc\u001b[39m\u001b[33m\"\u001b[39m,\u001b[33m\"\u001b[39m\u001b[33mparams.model_name\u001b[39m\u001b[33m\"\u001b[39m,\u001b[33m\"\u001b[39m\u001b[33mparams.img_size\u001b[39m\u001b[33m\"\u001b[39m,\u001b[33m\"\u001b[39m\u001b[33mparams.epochs\u001b[39m\u001b[33m\"\u001b[39m]].sort_values(\u001b[33m\"\u001b[39m\u001b[33mmetrics.best_val_auc\u001b[39m\u001b[33m\"\u001b[39m, ascending=\u001b[38;5;28;01mFalse\u001b[39;00m)\n",
      "\u001b[31mAttributeError\u001b[39m: 'NoneType' object has no attribute 'experiment_id'"
     ]
    }
   ],
   "source": [
    "import mlflow, pandas as pd\n",
    "mlflow.set_tracking_uri(\"./mlruns\")\n",
    "exp = mlflow.get_experiment_by_name(\"cancer-detection-ai\")\n",
    "runs = mlflow.search_runs(experiment_ids=[exp.experiment_id])\n",
    "runs[[\"run_name\",\"metrics.val_auc\",\"metrics.best_val_auc\",\"params.model_name\",\"params.img_size\",\"params.epochs\"]].sort_values(\"metrics.best_val_auc\", ascending=False)\n"
   ]
  }
 ],
 "metadata": {
  "language_info": {
   "name": "python"
  }
 },
 "nbformat": 4,
 "nbformat_minor": 5
}
